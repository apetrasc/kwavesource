{
 "cells": [
  {
   "cell_type": "code",
   "execution_count": 16,
   "metadata": {},
   "outputs": [
    {
     "name": "stdout",
     "output_type": "stream",
     "text": [
      "scipy.io.loadmat failed: Please use HDF reader for matlab v7.3 files, e.g. h5py\n",
      "Loaded with h5py (v7.3 HDF5 format).\n",
      "#refs#/ (Group)\n",
      "  a: (2,), dtype=uint64\n",
      "  b: (1, 584), dtype=uint8\n",
      "  c: (1, 1), dtype=float64\n",
      "  d: (1, 1), dtype=float64\n",
      "  e: (1, 1), dtype=float64\n",
      "  f: (1, 1), dtype=float64\n",
      "  g: (1, 1), dtype=float64\n",
      "  h: (1, 1), dtype=float64\n",
      "  i: (1, 2008), dtype=float64\n",
      "  j: (1, 748), dtype=float64\n",
      "  k: (1, 108), dtype=float64\n",
      "  l: (108, 748, 2008), dtype=float64\n",
      "  m: (1, 1), dtype=float64\n",
      "  n: (1, 1), dtype=float64\n",
      "  o: (1, 1), dtype=float64\n",
      "  p: (1, 1), dtype=float64\n",
      "  q: (1, 1), dtype=float64\n",
      "  r: (1, 1), dtype=float64\n",
      "  s: (1, 1), dtype=float64\n",
      "  t: (1, 2), dtype=object\n",
      "  u: (2,), dtype=uint64\n",
      "  v: (2,), dtype=uint64\n",
      "  w: (1, 2), dtype=int32\n",
      "  x: (1, 2), dtype=object\n",
      "  y: (2,), dtype=uint64\n",
      "  z/ (Group)\n",
      "    Nt: (4, 1), dtype=uint16\n",
      "    Nx: (1, 1), dtype=float64\n",
      "    Ny: (1, 1), dtype=float64\n",
      "    Nz: (1, 1), dtype=float64\n",
      "    dim: (1, 1), dtype=float64\n",
      "    dt: (4, 1), dtype=uint16\n",
      "    dx: (1, 1), dtype=float64\n",
      "    dxudxn: (1, 1), dtype=float64\n",
      "    dxudxn_sgx: (1, 1), dtype=float64\n",
      "    dy: (1, 1), dtype=float64\n",
      "    dyudyn: (1, 1), dtype=float64\n",
      "    dyudyn_sgy: (1, 1), dtype=float64\n",
      "    dz: (1, 1), dtype=float64\n",
      "    dzudzn: (1, 1), dtype=float64\n",
      "    dzudzn_sgz: (1, 1), dtype=float64\n",
      "    k: (1, 1), dtype=float64\n",
      "    k_max: (1, 1), dtype=float64\n",
      "    kx_max: (1, 1), dtype=float64\n",
      "    kx_vec: (1, 1), dtype=float64\n",
      "    ky_max: (1, 1), dtype=float64\n",
      "    ky_vec: (1, 1), dtype=float64\n",
      "    kz_max: (1, 1), dtype=float64\n",
      "    kz_vec: (1, 1), dtype=float64\n",
      "    nonuniform: (1, 1), dtype=uint8\n",
      "    xn_vec: (1, 1), dtype=float64\n",
      "    xn_vec_sgx: (1, 1), dtype=float64\n",
      "    yn_vec: (1, 1), dtype=float64\n",
      "    yn_vec_sgy: (1, 1), dtype=float64\n",
      "    zn_vec: (1, 1), dtype=float64\n",
      "    zn_vec_sgz: (1, 1), dtype=float64\n",
      "#subsystem#/ (Group)\n",
      "  MCOS: (1, 22), dtype=object\n",
      "kgrid: (1, 6), dtype=uint32\n",
      "sensor_data: (150001, 32), dtype=float64\n"
     ]
    }
   ],
   "source": [
    "import sys\n",
    "\n",
    "matfile = '/mnt/matsubara/rawdata/solid_liquid_s.mat'\n",
    "\n",
    "# Try scipy.io.loadmat\n",
    "try:\n",
    "    from scipy.io import loadmat\n",
    "    data = loadmat(matfile)\n",
    "    print(\"Loaded with scipy.io.loadmat (v7 or earlier).\")\n",
    "    print(\"Top-level keys:\")\n",
    "    for key in data:\n",
    "        print(f\"  {key}: {type(data[key])}, shape={getattr(data[key], 'shape', None)}\")\n",
    "    sys.exit(0)\n",
    "except Exception as e:\n",
    "    print(\"scipy.io.loadmat failed:\", e)\n",
    "\n",
    "# Try h5py\n",
    "try:\n",
    "    import h5py\n",
    "    with h5py.File(matfile, 'r') as f:\n",
    "        print(\"Loaded with h5py (v7.3 HDF5 format).\")\n",
    "        def print_h5_structure(g, indent=0):\n",
    "            for key in g:\n",
    "                item = g[key]\n",
    "                if isinstance(item, h5py.Group):\n",
    "                    print('  ' * indent + f\"{key}/ (Group)\")\n",
    "                    print_h5_structure(item, indent+1)\n",
    "                else:\n",
    "                    print('  ' * indent + f\"{key}: {item.shape}, dtype={item.dtype}\")\n",
    "        print_h5_structure(f)\n",
    "except Exception as e:\n",
    "    print(\"h5py failed:\", e)"
   ]
  },
  {
   "cell_type": "code",
   "execution_count": 17,
   "metadata": {},
   "outputs": [
    {
     "name": "stdout",
     "output_type": "stream",
     "text": [
      "sensor_data shape: (150001, 32)\n",
      "kgrid shape: (1, 6)\n",
      "kgrid: [[3707764736          2          1          1          1          1]]\n"
     ]
    },
    {
     "data": {
      "image/png": "[encoded data removed]",
      "text/plain": [
       "<Figure size 640x480 with 1 Axes>"
      ]
     },
     "metadata": {},
     "output_type": "display_data"
    }
   ],
   "source": [
    "import h5py\n",
    "import numpy as np\n",
    "import matplotlib.pyplot as plt\n",
    "\n",
    "matfile = '/mnt/matsubara/rawdata/solid_liquid_s.mat'\n",
    "\n",
    "with h5py.File(matfile, 'r') as f:\n",
    "    # sensor_dataの取得\n",
    "    sensor_data = np.array(f['sensor_data'])  # shape: (10001, 32)\n",
    "    print('sensor_data shape:', sensor_data.shape)\n",
    "    \n",
    "    # kgridの取得（内容によってはt_arrayが含まれている場合もある）\n",
    "    if 'kgrid' in f:\n",
    "        kgrid = np.array(f['kgrid'])\n",
    "        print('kgrid shape:', kgrid.shape)\n",
    "        print('kgrid:', kgrid)\n",
    "    else:\n",
    "        kgrid = None\n",
    "\n",
    "# 仮の時間軸を作成（例: 10001点, サンプリング間隔dt=1.0e-8秒と仮定）\n",
    "dt = 1.0e-9  # 例: 10ns（適切な値に変更してください）\n",
    "t_array = np.arange(sensor_data.shape[0]) * dt\n",
    "\n",
    "# 1ch目の信号をプロット\n",
    "plt.figure()\n",
    "plt.plot(t_array * 1e6, sensor_data[:, 16] * 1e-6, label='Sensor 1')\n",
    "plt.xlabel('Time [μs]')\n",
    "plt.ylabel('Pressure [MPa]')\n",
    "plt.title('Signal from Sensor 1')\n",
    "plt.grid(True)\n",
    "plt.legend()\n",
    "plt.show()"
   ]
  }
 ],
 "metadata": {
  "kernelspec": {
   "display_name": "sand",
   "language": "python",
   "name": "python3"
  },
  "language_info": {
   "codemirror_mode": {
    "name": "ipython",
    "version": 3
   },
   "file_extension": ".py",
   "mimetype": "text/x-python",
   "name": "python",
   "nbconvert_exporter": "python",
   "pygments_lexer": "ipython3",
   "version": "3.10.12"
  }
 },
 "nbformat": 4,
 "nbformat_minor": 2
}
