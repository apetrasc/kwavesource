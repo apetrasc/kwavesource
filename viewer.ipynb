{
 "cells": [
  {
   "cell_type": "code",
   "execution_count": 7,
   "metadata": {},
   "outputs": [
    {
     "name": "stdout",
     "output_type": "stream",
     "text": [
      "Collecting h5py\n",
      "  Downloading h5py-3.13.0-cp310-cp310-manylinux_2_17_x86_64.manylinux2014_x86_64.whl (4.5 MB)\n",
      "\u001b[2K     \u001b[90m━━━━━━━━━━━━━━━━━━━━━━━━━━━━━━━━━━━━━━━━\u001b[0m \u001b[32m4.5/4.5 MB\u001b[0m \u001b[31m20.7 MB/s\u001b[0m eta \u001b[36m0:00:00\u001b[0m00:01\u001b[0m00:01\u001b[0m\n",
      "\u001b[?25hRequirement already satisfied: numpy>=1.19.3 in /home/matsubara/Scripts/sand/lib/python3.10/site-packages (from h5py) (2.2.4)\n",
      "Installing collected packages: h5py\n",
      "Successfully installed h5py-3.13.0\n"
     ]
    }
   ],
   "source": [
    "!pip install h5py\n"
   ]
  },
  {
   "cell_type": "code",
   "execution_count": 8,
   "metadata": {},
   "outputs": [
    {
     "name": "stdout",
     "output_type": "stream",
     "text": [
      "512\n",
      "{'sound_speed': 2390, 'density': 1400, 'alpha_coeff': 0.448, 'alpha_power': 2, 'BonA': 6}\n"
     ]
    },
    {
     "ename": "TypeError",
     "evalue": "unsupported operand type(s) for /: 'str' and 'str'",
     "output_type": "error",
     "traceback": [
      "\u001b[0;31m---------------------------------------------------------------------------\u001b[0m",
      "\u001b[0;31mTypeError\u001b[0m                                 Traceback (most recent call last)",
      "Cell \u001b[0;32mIn[8], line 12\u001b[0m\n\u001b[1;32m     10\u001b[0m \u001b[38;5;28mprint\u001b[39m(config[\u001b[38;5;124m'\u001b[39m\u001b[38;5;124mmedium\u001b[39m\u001b[38;5;124m'\u001b[39m][\u001b[38;5;124m'\u001b[39m\u001b[38;5;124mvinyl\u001b[39m\u001b[38;5;124m'\u001b[39m])     \u001b[38;5;66;03m# {'sound_speed': 2390, ...}\u001b[39;00m\n\u001b[1;32m     11\u001b[0m save_path \u001b[38;5;241m=\u001b[39m config[\u001b[38;5;124m'\u001b[39m\u001b[38;5;124msave_path\u001b[39m\u001b[38;5;124m'\u001b[39m]\n\u001b[0;32m---> 12\u001b[0m \u001b[38;5;28;01mwith\u001b[39;00m h5py\u001b[38;5;241m.\u001b[39mFile(\u001b[43msave_path\u001b[49m\u001b[38;5;241;43m/\u001b[39;49m\u001b[38;5;124;43m'\u001b[39;49m\u001b[38;5;124;43mliquid_only.mat\u001b[39;49m\u001b[38;5;124;43m'\u001b[39;49m, \u001b[38;5;124m'\u001b[39m\u001b[38;5;124mr\u001b[39m\u001b[38;5;124m'\u001b[39m) \u001b[38;5;28;01mas\u001b[39;00m f:\n\u001b[1;32m     13\u001b[0m     \u001b[38;5;28;01mdef\u001b[39;00m\u001b[38;5;250m \u001b[39m\u001b[38;5;21mprint_tree\u001b[39m(name, obj):\n\u001b[1;32m     14\u001b[0m         \u001b[38;5;28;01mif\u001b[39;00m \u001b[38;5;28misinstance\u001b[39m(obj, h5py\u001b[38;5;241m.\u001b[39mDataset):\n",
      "\u001b[0;31mTypeError\u001b[0m: unsupported operand type(s) for /: 'str' and 'str'"
     ]
    }
   ],
   "source": [
    "from pathlib import Path\n",
    "import json\n",
    "import h5py\n",
    "\n",
    "HERE = Path().resolve()          # /path/to/your/script\n",
    "json_path = HERE / 'config.json'                 # /path/to/your/script/config.json\n",
    "with json_path.open('r', encoding='utf-8') as f:\n",
    "    config = json.load(f)\n",
    "print(config['grid']['Nx'])          # 512\n",
    "print(config['medium']['vinyl'])     # {'sound_speed': 2390, ...}\n",
    "save_path = config['save_path']\n",
    "signal_path = os.path.join(save_path, 'liquid_only.mat')\n",
    "with h5py.File(signal_path, 'r') as f:\n",
    "    def print_tree(name, obj):\n",
    "        if isinstance(obj, h5py.Dataset):\n",
    "            print(f'Dataset: {name}  shape={obj.shape} dtype={obj.dtype}')\n",
    "        else:\n",
    "            print(f'Group:   {name}')\n",
    "    f.visititems(print_tree)"
   ]
  }
 ],
 "metadata": {
  "kernelspec": {
   "display_name": "sand",
   "language": "python",
   "name": "python3"
  },
  "language_info": {
   "codemirror_mode": {
    "name": "ipython",
    "version": 3
   },
   "file_extension": ".py",
   "mimetype": "text/x-python",
   "name": "python",
   "nbconvert_exporter": "python",
   "pygments_lexer": "ipython3",
   "version": "3.10.12"
  }
 },
 "nbformat": 4,
 "nbformat_minor": 2
}
